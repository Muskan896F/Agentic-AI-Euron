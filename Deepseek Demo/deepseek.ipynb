{
 "cells": [
  {
   "cell_type": "code",
   "execution_count": 1,
   "metadata": {},
   "outputs": [],
   "source": [
    "from groq import Groq"
   ]
  },
  {
   "cell_type": "code",
   "execution_count": 2,
   "metadata": {},
   "outputs": [],
   "source": [
    "client = Groq(api_key=\"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\")"
   ]
  },
  {
   "cell_type": "code",
   "execution_count": 3,
   "metadata": {},
   "outputs": [],
   "source": [
    "user_input = \"Tell me about Agentic AI\""
   ]
  },
  {
   "cell_type": "code",
   "execution_count": 4,
   "metadata": {},
   "outputs": [
    {
     "name": "stdout",
     "output_type": "stream",
     "text": [
      "<think>\n",
      "\n",
      "</think>\n",
      "\n",
      "Agentic AI refers to artificial intelligence systems that are designed to act autonomously on behalf of users, organizations, or other entities. These AI agents are typically programmed to perform tasks, make decisions, and interact with environments in ways that align with their assigned goals and objectives. Agentic AI combines aspects of machine learning, natural language processing, and decision-making algorithms to create systems that can operate with varying degrees of autonomy.\n",
      "\n",
      "### Key Characteristics of Agentic AI:\n",
      "1. **Autonomy**: Agentic AI systems can operate independently without constant human intervention. They can make decisions based on their programming, data, and the environment they interact with.\n",
      "   \n",
      "2. **Goal-Oriented**: These systems are designed to achieve specific objectives. They can interpret tasks, understand context, and take actions to fulfill their goals.\n",
      "\n",
      "3. **Learning and Adaptation**: Many agentic AI systems incorporate machine learning, enabling them to improve their performance over time by learning from data and experiences.\n",
      "\n",
      "4. **Interaction**: Agentic AI often involves interaction with users, other systems, or the physical environment. This can include natural language interactions, API calls, or even control of physical devices.\n",
      "\n",
      "5. **Decision-Making**: These systems can analyze situations, weigh options, and make decisions based on predefined rules, data patterns, or ethical guidelines.\n",
      "\n",
      "### Examples of Agentic AI:\n",
      "1. **Virtual Assistants**: Siri, Alexa, and Google Assistant are examples of agentic AI. They understand voice commands, process information, and perform tasks like setting reminders, answering questions, or controlling smart home devices.\n",
      "\n",
      "2. **Autonomous Vehicles**: Self-driving cars are advanced agentic AI systems. They interpret sensory data, make driving decisions, and navigate complex environments autonomously.\n",
      "\n",
      "3. **Chatbots**: Customer service chatbots are agentic AI systems that interact with users, understand their queries, and provide solutions or escalate issues as needed.\n",
      "\n",
      "4. **Robots**: Industrial robots and service robots are physical manifestations of agentic AI, performing tasks like assembly, delivery, or healthcare support with varying levels of autonomy.\n",
      "\n",
      "5. **Personalized Recommenders**: Systems like Netflix or Spotify recommend content based on user preferences, learning from user behavior and adapting over time.\n",
      "\n",
      "### Applications:\n",
      "- **Healthcare**: Agentic AI can manage patient records, provide personalized treatment recommendations, and assist with diagnostics.\n",
      "- **Finance**: AI agents can trade stocks, manage portfolios, and detect fraudulent transactions.\n",
      "- **Retail**: AI can optimize supply chains, manage inventory, and personalize shopping experiences.\n",
      "- **Education**: AI tutors can provide personalized learning experiences and adapt to student needs.\n",
      "\n",
      "### Challenges and Considerations:\n",
      "- **Ethics and Safety**: Ensuring that agentic AI systems act ethically and safely is a critical challenge. Issues like bias, transparency, and accountability must be addressed.\n",
      "- **Security**: Autonomous systems can be vulnerable to hacking or manipulation, requiring robust security measures.\n",
      "- **Regulation**: As agentic AI becomes more prevalent, there is a need for regulatory frameworks to govern their development and deployment.\n",
      "\n",
      "Agentic AI represents a significant evolution in artificial intelligence, moving beyond traditional rule-based systems to more intelligent, adaptive, and autonomous solutions. As the technology advances, it has the potential to transform industries and revolutionize how we live and work."
     ]
    }
   ],
   "source": [
    "completion = client.chat.completions.create(\n",
    "    model = \"deepseek-r1-distill-llama-70b\",\n",
    "    messages = [\n",
    "        {\n",
    "            \"role\": \"user\",\n",
    "            \"content\": user_input\n",
    "        }\n",
    "    ],\n",
    "    temperature= 0.6,\n",
    "    max_completion_tokens=4096,\n",
    "    stream=True,\n",
    "    stop=None\n",
    ")\n",
    "\n",
    "for chunk in completion:\n",
    "    print(chunk.choices[0].delta.content or \"\", end=\"\")"
   ]
  },
  {
   "cell_type": "code",
   "execution_count": 5,
   "metadata": {},
   "outputs": [
    {
     "name": "stdout",
     "output_type": "stream",
     "text": [
      "The End\n"
     ]
    }
   ],
   "source": [
    "print(\"The End\")"
   ]
  }
 ],
 "metadata": {
  "kernelspec": {
   "display_name": "Python 3",
   "language": "python",
   "name": "python3"
  },
  "language_info": {
   "codemirror_mode": {
    "name": "ipython",
    "version": 3
   },
   "file_extension": ".py",
   "mimetype": "text/x-python",
   "name": "python",
   "nbconvert_exporter": "python",
   "pygments_lexer": "ipython3",
   "version": "3.10.0"
  }
 },
 "nbformat": 4,
 "nbformat_minor": 2
}
