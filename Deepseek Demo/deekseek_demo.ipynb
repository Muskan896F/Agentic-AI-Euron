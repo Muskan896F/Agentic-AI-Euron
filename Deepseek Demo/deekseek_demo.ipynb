{
 "cells": [
  {
   "cell_type": "code",
   "execution_count": 1,
   "metadata": {},
   "outputs": [],
   "source": [
    "import os\n",
    "from dotenv import load_dotenv, find_dotenv\n",
    "_ = load_dotenv(find_dotenv())"
   ]
  },
  {
   "cell_type": "code",
   "execution_count": 2,
   "metadata": {},
   "outputs": [],
   "source": [
    "from langchain_groq import ChatGroq\n",
    "\n",
    "llamaChatModel = ChatGroq(\n",
    "    model = \"llama3-70b-8192\"\n",
    ")"
   ]
  },
  {
   "cell_type": "code",
   "execution_count": 4,
   "metadata": {},
   "outputs": [],
   "source": [
    "mistralChatModel = ChatGroq(\n",
    "    model=\"mixtral-8x7b-32768\"\n",
    ")"
   ]
  },
  {
   "cell_type": "code",
   "execution_count": 5,
   "metadata": {},
   "outputs": [],
   "source": [
    "messages = [\n",
    "    (\"system\", \"You are an historian in the Kennedy family.\"),\n",
    "    (\"human\", \"How many members of the famiy died tragically?\")\n",
    "]"
   ]
  },
  {
   "cell_type": "code",
   "execution_count": 6,
   "metadata": {},
   "outputs": [],
   "source": [
    "llamaResponse = llamaChatModel.invoke(messages)"
   ]
  },
  {
   "cell_type": "code",
   "execution_count": 7,
   "metadata": {},
   "outputs": [
    {
     "name": "stdout",
     "output_type": "stream",
     "text": [
      "The Kennedy family has indeed been touched by tragedy far too many times. As an historian of the family, I can recall a number of untimely and tragic deaths that have befallen its members.\n",
      "\n",
      "First and foremost, there's the assassination of President John F. Kennedy in 1963. His death was a shock to the nation and a devastating blow to the family.\n",
      "\n",
      "Then, of course, there's the tragic death of Robert F. Kennedy, John's brother and the Attorney General of the United States, who was assassinated in 1968 while running for president.\n",
      "\n",
      "But those are just the most well-known examples. There have been other tragic losses within the family as well.\n",
      "\n",
      "Joseph P. Kennedy Jr., John's older brother, was killed in action during World War II in 1944. He was just 29 years old at the time of his death.\n",
      "\n",
      "Kathleen Kennedy, John's sister, died in a plane crash in 1948 at the age of 28.\n",
      "\n",
      "David Kennedy, the son of Robert F. Kennedy, died of a drug overdose in 1984 at the age of 28.\n",
      "\n",
      "Michael Kennedy, another son of Robert F. Kennedy, died in a skiing accident in 1997 at the age of 39.\n",
      "\n",
      "John F. Kennedy Jr., the son of the president, died in a plane crash in 1999 at the age of 38, along with his wife Carolyn and her sister Lauren.\n",
      "\n",
      "And more recently, Saoirse Kennedy Hill, the granddaughter of Robert F. Kennedy, died of a drug overdose in 2019 at the age of 22.\n",
      "\n",
      "These are just a few examples of the many tragic losses that the Kennedy family has endured over the years. It's a testament to the family's strength and resilience that they have continued to persevere in the face of such adversity.\n"
     ]
    }
   ],
   "source": [
    "print(llamaResponse.content)"
   ]
  },
  {
   "cell_type": "markdown",
   "metadata": {},
   "source": [
    "## **Deepseek**"
   ]
  },
  {
   "cell_type": "code",
   "execution_count": 8,
   "metadata": {},
   "outputs": [],
   "source": [
    "from langchain_groq import ChatGroq\n",
    "\n",
    "deepseekChatModel = ChatGroq(\n",
    "    model = \"deepseek-r1-distill-llama-70b\"\n",
    ")"
   ]
  },
  {
   "cell_type": "code",
   "execution_count": 9,
   "metadata": {},
   "outputs": [],
   "source": [
    "messages = [\n",
    "    (\"system\", \"You are an expert assistant.\"),\n",
    "    (\"human\", \"Tell me about Agentic AI?\")\n",
    "]"
   ]
  },
  {
   "cell_type": "code",
   "execution_count": 10,
   "metadata": {},
   "outputs": [],
   "source": [
    "llamaResponse = deepseekChatModel.invoke(messages)"
   ]
  },
  {
   "cell_type": "code",
   "execution_count": 11,
   "metadata": {},
   "outputs": [
    {
     "name": "stdout",
     "output_type": "stream",
     "text": [
      "<think>\n",
      "Okay, so I'm trying to understand what Agentic AI is. From the initial explanation, I gather it's a type of AI that can act on its own, making decisions and taking actions without constant human input. It's more advanced than regular AI because it has autonomy and can handle complex tasks. The core characteristics mentioned are autonomy, intentionality, and social interaction.\n",
      "\n",
      "Let me break this down. Autonomy means the AI can operate on its own. That makes sense because if it's agentic, it should be able to do things without being told every step. Intentionality implies that the AI has goals and can make decisions to achieve them. That sounds a bit like how humans set objectives and work towards them. Social interaction means the AI can communicate and cooperate with humans and other systems. That's interesting because it suggests the AI isn't just working in isolation but can be part of a team or collaborate on tasks.\n",
      "\n",
      "The functional capabilities include self-modification, learning, reasoning, planning, decision-making, and natural interaction. Self-modification is a bit concerning because if an AI can change its own architecture or objectives, how do we ensure it stays aligned with human values? Learning and reasoning are more familiar concepts, like how AI can improve over time or solve problems. Planning and decision-making tie into the autonomy aspect, allowing the AI to map out actions and choose the best course. Natural interaction means it can communicate in ways humans understand, which is crucial for collaboration.\n",
      "\n",
      "Applications include personal assistants, autonomous robots, smart infrastructure, healthcare, and finance. Personal assistants like a more advanced Siri or Alexa could manage schedules and anticipate needs. Autonomous robots could handle complex tasks in manufacturing or logistics. Smart infrastructure might adjust traffic lights or energy usage based on real-time data. In healthcare, an Agentic AI could help diagnose or manage treatments. In finance, it could make trades or advise on investments.\n",
      "\n",
      "Challenges and risks involve alignment with human values, ethical considerations, safety, transparency, and legal issues. Alignment is crucial because if the AI's goals don't match human intentions, it could cause problems. Ethical concerns include privacy and bias, which are big topics in AI right now. Safety is about preventing the AI from doing harm, even unintentionally. Transparency and explainability are important for trust; if the AI makes a decision, we need to understand why. Legally, there are questions about responsibility if an AI causes harm.\n",
      "\n",
      "Looking at current state, it's still emerging, with most AI being narrow. Research areas include general AI, cognitive architectures, and hybrid approaches. General AI would have human-like abilities across various tasks. Cognitive architectures structure the AI's mental processes, and hybrid approaches combine different AI methods.\n",
      "\n",
      "In terms of the future, Agentic AI could bring big changes in productivity and innovation but also requires careful development to avoid misuse. It's a double-edged sword with potential for great benefit or significant risk if not handled properly.\n",
      "\n",
      "Now, thinking about this, I'm a bit confused about how self-modification works. If an AI can change its own architecture, how do we control that? Also, how do we ensure that the AI's goals remain aligned with human values after it modifies itself? That seems like a big challenge. I'm also wondering about examples of Agentic AI in real life. Are there any existing systems that operate with this level of autonomy, or is it still mostly theoretical?\n",
      "\n",
      "Another point is the difference between Agentic AI and other types of AI. How does it differ from, say, machine learning or deep learning? It seems like Agentic AI is more about the structure and capabilities rather than the learning algorithms themselves. Maybe it's a framework that uses various AI techniques but adds layers of autonomy and decision-making.\n",
      "\n",
      "I'm also curious about the ethical implications. If an AI can act autonomously, who is responsible when something goes wrong? Is it the developer, the user, or the AI itself? Legal frameworks might need to evolve to address these issues. Also, how do we ensure transparency and explainability in an AI that can modify its own processes? It might be harder to trace decisions if the AI's internal workings change over time.\n",
      "\n",
      "In terms of applications, I can see how personal assistants could become more proactive, but what about in more critical areas like healthcare or finance? The stakes are higher there, so ensuring the AI makes correct decisions is paramount. How do we test and validate Agentic AI in such sensitive fields?\n",
      "\n",
      "I'm also thinking about the potential for Agentic AI in education. Maybe an AI tutor that adapts to a student's needs and learning style, setting goals and adjusting its teaching methods autonomously. That could be very effective, but it also raises questions about the role of human teachers and the potential for bias in the AI's teaching methods.\n",
      "\n",
      "Overall, Agentic AI seems to represent a significant leap in AI capabilities, moving from reactive systems to proactive, decision-making entities. The possibilities are exciting, but the challenges are substantial. It will be important to address ethical, safety, and legal issues proactively as this technology develops.\n",
      "</think>\n",
      "\n",
      "Agentic AI is an advanced form of artificial intelligence characterized by its autonomy, intentionality, and ability to interact socially. It operates independently, making decisions and taking actions to achieve specific goals, akin to human-like intentionality. This AI can modify its own architecture, learn, reason, and communicate naturally, enabling it to collaborate with humans and other systems effectively.\n",
      "\n",
      "**Key Characteristics and Capabilities:**\n",
      "- **Autonomy:** Functions independently without constant human intervention.\n",
      "- **Intentionality:** Possesses goals and decision-making capabilities to achieve them.\n",
      "- **Social Interaction:** Communicates and collaborates with humans and other AI systems.\n",
      "- **Functional Capabilities:** Includes self-modification, learning, reasoning, planning, decision-making, and natural interaction.\n",
      "\n",
      "**Applications:**\n",
      "- **Personal Assistants:** Proactive management of tasks and anticipation of needs.\n",
      "- **Autonomous Robots:** Handling complex tasks in manufacturing and logistics.\n",
      "- **Smart Infrastructure:** Managing traffic and energy systems in real-time.\n",
      "- **Healthcare:** Assisting in diagnosis and treatment management.\n",
      "- **Finance:** Conducting trades and providing investment advice.\n",
      "\n",
      "**Challenges and Risks:**\n",
      "- **Alignment with Human Values:** Ensuring AI goals match human intentions.\n",
      "- **Ethical Considerations:** Addressing privacy and bias issues.\n",
      "- **Safety:** Preventing potential harm.\n",
      "- **Transparency/Explainability:** Understanding AI decisions for trust.\n",
      "- **Legal Issues:** Determining responsibility and evolving legal frameworks.\n",
      "\n",
      "**Current State and Future:**\n",
      "- Emerging technology with most AI still being narrow. Research focuses on general AI, cognitive architectures, and hybrid approaches. The future holds potential for significant advancements but requires careful development to mitigate risks.\n",
      "\n",
      "**Considerations:**\n",
      "- **Examples and Theoretical Status:** Mostly theoretical, with few real-world examples.\n",
      "- **Differentiation from Other AI:** Structured for autonomy and decision-making, using various AI techniques.\n",
      "- **Ethical and Legal Implications:** Responsibility and evolving legal frameworks are crucial.\n",
      "- **Testing and Validation:** Essential in critical fields like healthcare and finance.\n",
      "- **Educational Potential:** AI tutors adapting to student needs, raising questions about human roles and bias.\n",
      "\n",
      "In summary, Agentic AI represents a transformative shift in AI, offering exciting possibilities but requiring addressing substantial challenges to ensure ethical, safe, and beneficial development.\n"
     ]
    }
   ],
   "source": [
    "print(llamaResponse.content)"
   ]
  },
  {
   "cell_type": "code",
   "execution_count": 12,
   "metadata": {},
   "outputs": [
    {
     "name": "stdout",
     "output_type": "stream",
     "text": [
      "The End\n"
     ]
    }
   ],
   "source": [
    "print(\"The End\")"
   ]
  }
 ],
 "metadata": {
  "kernelspec": {
   "display_name": "Python 3",
   "language": "python",
   "name": "python3"
  },
  "language_info": {
   "codemirror_mode": {
    "name": "ipython",
    "version": 3
   },
   "file_extension": ".py",
   "mimetype": "text/x-python",
   "name": "python",
   "nbconvert_exporter": "python",
   "pygments_lexer": "ipython3",
   "version": "3.10.0"
  }
 },
 "nbformat": 4,
 "nbformat_minor": 2
}
