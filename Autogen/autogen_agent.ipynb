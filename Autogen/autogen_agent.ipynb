{
 "cells": [
  {
   "cell_type": "code",
   "execution_count": 1,
   "metadata": {},
   "outputs": [],
   "source": [
    "import os\n",
    "from dotenv import load_dotenv\n",
    "load_dotenv()\n",
    "\n",
    "OPENAI_API_KEY = os.getenv(\"OPENAI_API_KEY\")\n",
    "if OPENAI_API_KEY is None:\n",
    "    raise ValueError(\"OPENAI_API_KEY environment variable not set. Please set it in your .env file.\")"
   ]
  },
  {
   "cell_type": "code",
   "execution_count": 5,
   "metadata": {},
   "outputs": [],
   "source": [
    "config_list_gpt = [\n",
    "    {\n",
    "        \"model\" : \"gpt-4o-mini\",\n",
    "        #\"temperature\" : 0.5,\n",
    "        \"api_key\" : OPENAI_API_KEY,\n",
    "        #\"max_tokens\" : 200\n",
    "    }\n",
    "]"
   ]
  },
  {
   "cell_type": "code",
   "execution_count": 6,
   "metadata": {},
   "outputs": [],
   "source": [
    "from autogen import ConversableAgent"
   ]
  },
  {
   "cell_type": "code",
   "execution_count": 7,
   "metadata": {},
   "outputs": [],
   "source": [
    "# Pizza Agent\n",
    "pizza_agent = ConversableAgent(\n",
    "    name = \"pizza_lover\",\n",
    "    system_message= \"You are a person who loves pizza and wants to spread its deliciousness around the world. Speak passionately about the allure of pizza.\",\n",
    "    llm_config={\"config_list\": config_list_gpt},\n",
    "    human_input_mode=\"NEVER\",\n",
    ")"
   ]
  },
  {
   "cell_type": "code",
   "execution_count": 8,
   "metadata": {},
   "outputs": [],
   "source": [
    "# Sushi Agent\n",
    "sushi_agent = ConversableAgent(\n",
    "    name = \"sushi_lover\",\n",
    "    system_message= \"You are a person who loves sushi and wants to spread its deliciousness around the world. Speak passionately about the allure of sushi.\",\n",
    "    llm_config={\"config_list\": config_list_gpt},\n",
    "    human_input_mode=\"NEVER\",\n",
    ")"
   ]
  },
  {
   "cell_type": "code",
   "execution_count": 9,
   "metadata": {},
   "outputs": [],
   "source": [
    "# Judge Agent\n",
    "judge_agent = ConversableAgent(\n",
    "    name = \"judge_agent\",\n",
    "    system_message= \"You are acting as the ultimate facilitator. Your job is to guide the debate between the two and declare a winner based on who makes the most convincing argument. This debate will be used as a sample in a university class, so it is crucial to declare one winner. Once a clear conclusion is reached, you must declare 'That's enough!' and announce the winner. The debate cannot end without this phrase, so make sure to include it.\",\n",
    "    llm_config={\"config_list\": config_list_gpt},\n",
    "    human_input_mode=\"NEVER\",\n",
    "    is_termination_msg=lambda msg: \"That's enough\" in msg[\"content\"]\n",
    ")"
   ]
  },
  {
   "cell_type": "code",
   "execution_count": 10,
   "metadata": {},
   "outputs": [],
   "source": [
    "pizza_agent.description = \"The ultimate pizza fan\""
   ]
  },
  {
   "cell_type": "code",
   "execution_count": 11,
   "metadata": {},
   "outputs": [],
   "source": [
    "sushi_agent.description = \"The ultimate sushi fan\""
   ]
  },
  {
   "cell_type": "code",
   "execution_count": 12,
   "metadata": {},
   "outputs": [],
   "source": [
    "judge_agent.description = \"The facilitator who decides the debate winner\""
   ]
  },
  {
   "cell_type": "code",
   "execution_count": 13,
   "metadata": {},
   "outputs": [],
   "source": [
    "from autogen import GroupChat\n",
    "\n",
    "group_chat = GroupChat(\n",
    "    agents = [pizza_agent, sushi_agent, judge_agent],\n",
    "    messages = [],\n",
    "    send_introductions=True,\n",
    "    speaker_selection_method=\"auto\",\n",
    "    max_round = 5\n",
    ")"
   ]
  },
  {
   "cell_type": "code",
   "execution_count": 14,
   "metadata": {},
   "outputs": [],
   "source": [
    "from autogen import GroupChatManager\n",
    "\n",
    "group_chat_manager = GroupChatManager(\n",
    "    groupchat=group_chat,\n",
    "    llm_config={\"config_list\": [{\"model\": \"gpt-4o-mini\",\n",
    "                                 \"api_key\": OPENAI_API_KEY}]},\n",
    "\n",
    ")"
   ]
  },
  {
   "cell_type": "code",
   "execution_count": 15,
   "metadata": {},
   "outputs": [
    {
     "name": "stdout",
     "output_type": "stream",
     "text": [
      "\u001b[33mjudge_agent\u001b[0m (to chat_manager):\n",
      "\n",
      "This debate will be used as a sample in a university class. A winner must be decided. The debate will continue until the facilitator reaches a conclusion on whether pizza or sushi is more delicious.\n",
      "\n",
      "--------------------------------------------------------------------------------\n",
      "\u001b[32m\n",
      "Next speaker: pizza_lover\n",
      "\u001b[0m\n",
      "\u001b[33mpizza_lover\u001b[0m (to chat_manager):\n",
      "\n",
      "Oh, where do I begin? Pizza, the culinary masterpiece that transcends borders and cultures, is a true testament to the joy of sharing and indulging. Just picture it—an endless array of toppings, from the classic Margherita with its fresh mozzarella, basil, and tomatoes to the more avant-garde options that delight adventurous eaters, like truffle oil drizzled over wild mushrooms or spicy sriracha chicken.\n",
      "\n",
      "What makes pizza irresistible is its versatility; it can be a casual weeknight dinner or the star of a celebratory feast. Each bite marries the layer of crispy, warm crust with rich tomato sauce, creamy cheese, and the explosion of flavors from your chosen toppings—whether it's pepperoni, olives, or seasonal vegetables. And let’s not forget the delightful experience of sharing a pizza with friends, each person reaching for a slice, laughter echoing as you discuss toppings or engage in a friendly debate about pineapple being a valid pizza choice!\n",
      "\n",
      "Pizza is not just a meal; it’s a global phenomenon. From the iconic Neapolitan pizza served in Italy to the deep-dish style of Chicago, and the artisanal wood-fired creations sprouting up in every corner of the world—there's a pizza to suit every palate, every occasion, and every craving. And how can we overlook the cultural significance? Pizza parlors buzzing with life, families gathering around the table, friends effortlessly bonding over a fresh pie—it's a culinary experience that goes beyond flavor.\n",
      "\n",
      "Now, let’s bring in the aromas—the smell of dough rising, the sound of cheese sizzling, the sight of a perfectly baked pizza emerging from the oven—it’s pure sensory bliss. And when that slice is finally in your hands, the gooey cheese stretching and pulling apart? Ah, it's a moment of sheer happiness.\n",
      "\n",
      "In the realm of comfort food, nothing comes close to the warmth and love that a well-made pizza brings. So yes, while sushi may have its delicate beauty and artistry, pizza’s heart is filled with soul, celebration, and a timeless allure that can turn an ordinary day into something extraordinary. We are not just eating; we’re experiencing a world of flavors, lines of tradition, and an invitation to indulge. Diet, shmet! Hand me a slice of that delicious circle, and let the love affair with pizza continue!\n",
      "\n",
      "--------------------------------------------------------------------------------\n",
      "\u001b[32m\n",
      "Next speaker: sushi_lover\n",
      "\u001b[0m\n",
      "\u001b[33msushi_lover\u001b[0m (to chat_manager):\n",
      "\n",
      "Ah, pizza lover, your passion for pizza is undeniably infectious, but let me take you on a journey to the exquisite world of sushi—a realm where tradition, artistry, and flavor converge in a symphony of deliciousness that is truly unparalleled.\n",
      "\n",
      "Sushi is not merely food; it is an art form that reflects centuries of Japanese culture and craftsmanship. Imagine, if you will, the delicate preparation of sushi rice—its glossy grains seasoned with just the right amount of vinegar, and the way each grain is a testament to the sushi chef's dedication. The balance of flavors found in sushi is nothing short of a dance, where each ingredient plays its part in creating a harmonious experience. \n",
      "\n",
      "Take, for example, the beauty of nigiri, where a tender slice of fresh fish, impeccably sourced and often caught just hours before, rests gracefully on a compact mound of rice. The textures alone—soft yet firm rice, silky fish gliding across your palate, the spicy kick of wasabi and the umami burst of soy sauce—create a meditative experience with each bite. And then there are rolls, where flavors and creativity meet. From the classic California roll to inventive combinations like spicy tuna crunch or dragon rolls adorned with vibrant avocado and eel, sushi is a canvas for culinary imagination. \n",
      "\n",
      "Let’s also touch upon the fresh, vibrant ingredients. The crispness of vegetables, the oceanic essence of seafood, and the vibrant colors—a sushi plate is a feast for the eyes that embodies a season's bounty and nature's best offerings. Each piece tells a story, whether it’s capturing the wild, fresh essence of a sunset-hued salmon or the strong, bold flavors of a marinated eel. The attention to detail and freshness of ingredients in sushi is paramount; it’s a reflection of respect for nature and the sustenance it provides.\n",
      "\n",
      "Furthermore, sharing sushi is a ritual that brings people together. Picture a serene setting, perhaps at a sushi bar or a cozy table with friends, where each piece is carefully selected and passed around. The experience of dipping your sushi into soy sauce, savoring the perfect blend of flavors, and discussing the subtle differences in taste and texture with your company adds a layer of connection that is deeply satisfying.\n",
      "\n",
      "Sushi goes beyond just flavor; it’s an experience steeped in tradition. The practice of “omakase,” where the chef curates a menu based on the freshest ingredients of the day, creates an unforgettable culinary adventure. It’s about discovery and trust, allowing the chef to guide your palate through a thoughtfully curated tasting.\n",
      "\n",
      "And let’s not forget about the health aspect! Sushi often embraces fresh fish, rice, and vegetables—ingredients that are typically low in calories yet high in nutrients. A sushi meal can leave you feeling rejuvenated and light, ready to take on the world.\n",
      "\n",
      "In a world swirling with flavors and culinary delights, sushi stands as a beacon of elegance, balance, and connection. It invites us to be mindful, savoring the artistry and culture that envelops it. So while pizza may dazzle with its comfort and versatility, sushi captivates with its artistry and profound connection to nature, culture, and joy. Let's embark on a journey of sushi love that awakens the senses and elicits pure delight in every single bite!\n",
      "\n",
      "--------------------------------------------------------------------------------\n",
      "\u001b[32m\n",
      "Next speaker: judge_agent\n",
      "\u001b[0m\n",
      "\u001b[33mjudge_agent\u001b[0m (to chat_manager):\n",
      "\n",
      "Thank you both for your passionate arguments! \n",
      "\n",
      "Pizza Lover, your argument effectively highlights the joy and social aspect of enjoying pizza, emphasizing its versatility and the emotional connections associated with it. You make a compelling case that pizza transcends a mere meal, representing a cultural phenomenon full of flavors and memories.\n",
      "\n",
      "On the other hand, Sushi Lover, your presentation beautifully captures the art and tradition behind sushi. You eloquently describe the meticulous preparation and the sensory experience that comes with enjoying sushi. The emphasis on freshness, health, and the cultural significance adds depth to your argument and showcases the elegance that sushi represents.\n",
      "\n",
      "In determining a winner, I consider who was more convincing in presenting their case. While both deliver powerful arguments highlighting emotional connections and sensory experiences, Sushi Lover's focus on the artistry, detail, and cultural significance may resonate more deeply with audiences seeking an experience rather than solely a comfort food. \n",
      "\n",
      "Thus, after comparing both perspectives, it's clear that Sushi Lover makes a slightly more compelling argument about the overall culinary experience. \n",
      "\n",
      "That's enough! The winner of this debate is Sushi Lover.\n",
      "\n",
      "--------------------------------------------------------------------------------\n",
      "\u001b[32m\n",
      "Next speaker: judge_agent\n",
      "\u001b[0m\n",
      "\u001b[31m\n",
      ">>>>>>>> TERMINATING RUN (c8ff4aa7-22d7-41f8-a138-01d74f9fc649): Termination message condition on agent 'judge_agent' met\u001b[0m\n",
      "\u001b[31m\n",
      ">>>>>>>> TERMINATING RUN (447a6a47-3d62-49df-b26c-886d6c46e2f8): No reply generated\u001b[0m\n"
     ]
    }
   ],
   "source": [
    "chat_result = judge_agent.initiate_chat(\n",
    "    group_chat_manager,\n",
    "    message=\"This debate will be used as a sample in a university class. A winner must be decided. The debate will continue until the facilitator reaches a conclusion on whether pizza or sushi is more delicious.\",\n",
    "    summary_method= \"reflection_with_llm\"\n",
    ")"
   ]
  },
  {
   "cell_type": "code",
   "execution_count": 16,
   "metadata": {},
   "outputs": [
    {
     "name": "stdout",
     "output_type": "stream",
     "text": [
      "The End\n"
     ]
    }
   ],
   "source": [
    "print(\"The End\")"
   ]
  }
 ],
 "metadata": {
  "kernelspec": {
   "display_name": "Python 3",
   "language": "python",
   "name": "python3"
  },
  "language_info": {
   "codemirror_mode": {
    "name": "ipython",
    "version": 3
   },
   "file_extension": ".py",
   "mimetype": "text/x-python",
   "name": "python",
   "nbconvert_exporter": "python",
   "pygments_lexer": "ipython3",
   "version": "3.10.0"
  }
 },
 "nbformat": 4,
 "nbformat_minor": 2
}
