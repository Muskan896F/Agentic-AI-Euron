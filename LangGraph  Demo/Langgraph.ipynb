{
 "cells": [
  {
   "cell_type": "code",
   "execution_count": 19,
   "metadata": {},
   "outputs": [],
   "source": [
    "import os\n",
    "from dotenv import load_dotenv, find_dotenv\n",
    "_ = load_dotenv(find_dotenv())\n",
    "openai_api_key = os.environ[\"OPENAI_API_KEY\"]"
   ]
  },
  {
   "cell_type": "code",
   "execution_count": 5,
   "metadata": {},
   "outputs": [],
   "source": [
    "from langchain_openai import ChatOpenAI\n",
    "chatModel = ChatOpenAI(model=\"gpt-3.5-turbo-0125\")"
   ]
  },
  {
   "cell_type": "code",
   "execution_count": 6,
   "metadata": {},
   "outputs": [],
   "source": [
    "messages = [\n",
    "    (\"system\", \"You are an expert about python coding\"),\n",
    "    (\"human\", \"Hey i need a python code to generate an cat image\")\n",
    "]"
   ]
  },
  {
   "cell_type": "code",
   "execution_count": 7,
   "metadata": {},
   "outputs": [],
   "source": [
    "response = chatModel.invoke(messages)"
   ]
  },
  {
   "cell_type": "code",
   "execution_count": 8,
   "metadata": {},
   "outputs": [
    {
     "data": {
      "text/plain": [
       "AIMessage(content='Sure! You can use the following code to generate a cat image using the PIL library in Python:\\n\\n```python\\nfrom PIL import Image, ImageDraw\\n\\n# Create a new image with white background\\nimage = Image.new(\"RGB\", (200, 200), \"white\")\\n\\n# Draw a cat outline\\ndraw = ImageDraw.Draw(image)\\ndraw.ellipse((50, 50, 150, 150), fill=\"gray\")  # head\\ndraw.ellipse((70, 100, 100, 120), fill=\"black\")  # left eye\\ndraw.ellipse((120, 100, 150, 120), fill=\"black\")  # right eye\\ndraw.arc((80, 120, 140, 150), start=180, end=0, fill=\"black\")  # mouth\\ndraw.polygon([(100, 120), (110, 110), (120, 120)], fill=\"pink\")  # nose\\n\\n# Save the image\\nimage.save(\"cat_image.png\")\\n```\\n\\nThis code will create a simple cat image with a gray head, black eyes, a black mouth, and a pink nose. The image will be saved as \"cat_image.png\" in the same directory where the code is run. Feel free to customize the code to create different variations of a cat image.', response_metadata={'token_usage': {'completion_tokens': 275, 'prompt_tokens': 29, 'total_tokens': 304, 'completion_tokens_details': {'accepted_prediction_tokens': 0, 'audio_tokens': 0, 'reasoning_tokens': 0, 'rejected_prediction_tokens': 0}, 'prompt_tokens_details': {'audio_tokens': 0, 'cached_tokens': 0}}, 'model_name': 'gpt-3.5-turbo-0125', 'system_fingerprint': None, 'finish_reason': 'stop', 'logprobs': None}, id='run-b0dead73-b7bd-4eb6-ae05-da0375b0a9ef-0', usage_metadata={'input_tokens': 29, 'output_tokens': 275, 'total_tokens': 304})"
      ]
     },
     "execution_count": 8,
     "metadata": {},
     "output_type": "execute_result"
    }
   ],
   "source": [
    "response"
   ]
  },
  {
   "cell_type": "code",
   "execution_count": 10,
   "metadata": {},
   "outputs": [
    {
     "name": "stdout",
     "output_type": "stream",
     "text": [
      "Sure! You can use the following code to generate a cat image using the PIL library in Python:\n",
      "\n",
      "```python\n",
      "from PIL import Image, ImageDraw\n",
      "\n",
      "# Create a new image with white background\n",
      "image = Image.new(\"RGB\", (200, 200), \"white\")\n",
      "\n",
      "# Draw a cat outline\n",
      "draw = ImageDraw.Draw(image)\n",
      "draw.ellipse((50, 50, 150, 150), fill=\"gray\")  # head\n",
      "draw.ellipse((70, 100, 100, 120), fill=\"black\")  # left eye\n",
      "draw.ellipse((120, 100, 150, 120), fill=\"black\")  # right eye\n",
      "draw.arc((80, 120, 140, 150), start=180, end=0, fill=\"black\")  # mouth\n",
      "draw.polygon([(100, 120), (110, 110), (120, 120)], fill=\"pink\")  # nose\n",
      "\n",
      "# Save the image\n",
      "image.save(\"cat_image.png\")\n",
      "```\n",
      "\n",
      "This code will create a simple cat image with a gray head, black eyes, a black mouth, and a pink nose. The image will be saved as \"cat_image.png\" in the same directory where the code is run. Feel free to customize the code to create different variations of a cat image.\n"
     ]
    }
   ],
   "source": [
    "print(response.content)"
   ]
  },
  {
   "cell_type": "code",
   "execution_count": 11,
   "metadata": {},
   "outputs": [
    {
     "data": {
      "text/plain": [
       "{'token_usage': {'completion_tokens': 275,\n",
       "  'prompt_tokens': 29,\n",
       "  'total_tokens': 304,\n",
       "  'completion_tokens_details': {'accepted_prediction_tokens': 0,\n",
       "   'audio_tokens': 0,\n",
       "   'reasoning_tokens': 0,\n",
       "   'rejected_prediction_tokens': 0},\n",
       "  'prompt_tokens_details': {'audio_tokens': 0, 'cached_tokens': 0}},\n",
       " 'model_name': 'gpt-3.5-turbo-0125',\n",
       " 'system_fingerprint': None,\n",
       " 'finish_reason': 'stop',\n",
       " 'logprobs': None}"
      ]
     },
     "execution_count": 11,
     "metadata": {},
     "output_type": "execute_result"
    }
   ],
   "source": [
    "response.response_metadata"
   ]
  },
  {
   "cell_type": "markdown",
   "metadata": {},
   "source": [
    "## **Test with Groq Model**"
   ]
  },
  {
   "cell_type": "code",
   "execution_count": 12,
   "metadata": {},
   "outputs": [],
   "source": [
    "from langchain_groq import  ChatGroq"
   ]
  },
  {
   "cell_type": "code",
   "execution_count": 13,
   "metadata": {},
   "outputs": [],
   "source": [
    "ChatGroq = ChatGroq(model=\"llama3-70b-8192\")\n"
   ]
  },
  {
   "cell_type": "code",
   "execution_count": 14,
   "metadata": {},
   "outputs": [],
   "source": [
    "messages = [\n",
    "    (\"system\", \"You are an expert about python coding\"),\n",
    "    (\"human\", \"Hey i need a python code to generate an cat image\")\n",
    "]"
   ]
  },
  {
   "cell_type": "code",
   "execution_count": 15,
   "metadata": {},
   "outputs": [],
   "source": [
    "response = ChatGroq.invoke(messages)"
   ]
  },
  {
   "cell_type": "code",
   "execution_count": 16,
   "metadata": {},
   "outputs": [
    {
     "data": {
      "text/plain": [
       "AIMessage(content=\"Generating an image of a cat using Python! That's a creative and fun task!\\n\\nTo generate an image of a cat, we'll use a Python library called Pillow (PIL). Pillow is a friendly fork of the Python Imaging Library (PIL). We'll also use a simple drawing approach to create a basic cat image.\\n\\nHere's a Python code snippet to generate a simple cat image:\\n```python\\nfrom PIL import Image, ImageDraw\\n\\n# Create a new image with a white background\\nimg = Image.new('RGB', (200, 200), (255, 255, 255))\\n\\n# Create a drawing object\\ndraw = ImageDraw.Draw(img)\\n\\n# Draw the cat's body\\ndraw.ellipse((50, 50, 150, 150), fill=(255, 192, 203))  # Pink\\n\\n# Draw the cat's ears\\ndraw.polygon([(75, 75), (125, 75), (100, 50)], fill=(255, 192, 203))  # Pink\\ndraw.polygon([(75, 125), (125, 125), (100, 150)], fill=(255, 192, 203))  # Pink\\n\\n# Draw the cat's eyes\\ndraw.ellipse((90, 90, 110, 110), fill=(0, 0, 0))  # Black\\ndraw.ellipse((140, 90, 160, 110), fill=(0, 0, 0))  # Black\\n\\n# Draw the cat's nose\\ndraw.ellipse((120, 120, 130, 130), fill=(255, 0, 0))  # Red\\n\\n# Save the image to a file\\nimg.save('cat_image.png')\\n```\\nThis code will generate a simple cat image with a pink body, black eyes, and a red nose. You can adjust the drawing parameters to create different variations of the cat image.\\n\\n**Note:** This code will generate a basic image, and you can always improve it by adding more details, shading, or textures.\\n\\nRun this code in a Python environment where Pillow is installed, and you'll get a `cat_image.png` file in the same directory.\\n\\nIf you want to generate more complex or realistic cat images, you might want to explore other libraries like OpenCV, Matplotlib, or even use machine learning models to generate images.\", response_metadata={'token_usage': {'completion_tokens': 494, 'prompt_tokens': 33, 'total_tokens': 527, 'completion_time': 1.5474328210000001, 'prompt_time': 0.005138808, 'queue_time': 0.23341609700000002, 'total_time': 1.552571629}, 'model_name': 'llama3-70b-8192', 'system_fingerprint': 'fp_2f30b0b571', 'finish_reason': 'stop', 'logprobs': None}, id='run-da9cec38-af34-46e2-9556-e7d572ad4bee-0', usage_metadata={'input_tokens': 33, 'output_tokens': 494, 'total_tokens': 527})"
      ]
     },
     "execution_count": 16,
     "metadata": {},
     "output_type": "execute_result"
    }
   ],
   "source": [
    "response"
   ]
  },
  {
   "cell_type": "code",
   "execution_count": 18,
   "metadata": {},
   "outputs": [
    {
     "name": "stdout",
     "output_type": "stream",
     "text": [
      "Generating an image of a cat using Python! That's a creative and fun task!\n",
      "\n",
      "To generate an image of a cat, we'll use a Python library called Pillow (PIL). Pillow is a friendly fork of the Python Imaging Library (PIL). We'll also use a simple drawing approach to create a basic cat image.\n",
      "\n",
      "Here's a Python code snippet to generate a simple cat image:\n",
      "```python\n",
      "from PIL import Image, ImageDraw\n",
      "\n",
      "# Create a new image with a white background\n",
      "img = Image.new('RGB', (200, 200), (255, 255, 255))\n",
      "\n",
      "# Create a drawing object\n",
      "draw = ImageDraw.Draw(img)\n",
      "\n",
      "# Draw the cat's body\n",
      "draw.ellipse((50, 50, 150, 150), fill=(255, 192, 203))  # Pink\n",
      "\n",
      "# Draw the cat's ears\n",
      "draw.polygon([(75, 75), (125, 75), (100, 50)], fill=(255, 192, 203))  # Pink\n",
      "draw.polygon([(75, 125), (125, 125), (100, 150)], fill=(255, 192, 203))  # Pink\n",
      "\n",
      "# Draw the cat's eyes\n",
      "draw.ellipse((90, 90, 110, 110), fill=(0, 0, 0))  # Black\n",
      "draw.ellipse((140, 90, 160, 110), fill=(0, 0, 0))  # Black\n",
      "\n",
      "# Draw the cat's nose\n",
      "draw.ellipse((120, 120, 130, 130), fill=(255, 0, 0))  # Red\n",
      "\n",
      "# Save the image to a file\n",
      "img.save('cat_image.png')\n",
      "```\n",
      "This code will generate a simple cat image with a pink body, black eyes, and a red nose. You can adjust the drawing parameters to create different variations of the cat image.\n",
      "\n",
      "**Note:** This code will generate a basic image, and you can always improve it by adding more details, shading, or textures.\n",
      "\n",
      "Run this code in a Python environment where Pillow is installed, and you'll get a `cat_image.png` file in the same directory.\n",
      "\n",
      "If you want to generate more complex or realistic cat images, you might want to explore other libraries like OpenCV, Matplotlib, or even use machine learning models to generate images.\n"
     ]
    }
   ],
   "source": [
    "print(response.content)"
   ]
  },
  {
   "cell_type": "markdown",
   "metadata": {},
   "source": [
    "## **Travily Search Tool**"
   ]
  },
  {
   "cell_type": "code",
   "execution_count": 21,
   "metadata": {},
   "outputs": [
    {
     "data": {
      "text/plain": [
       "[{'url': 'https://recovery.lacounty.gov/2025/01/17/wildfire-update-january-17-2025/',\n",
       "  'content': 'Fire Debris Removal\\n\\nThe deadline to submit a Right of Entry or Opt-Out form for fire debris removal has been extended to April 15, 2025. Track the status of your Right of Entry form.\\n\\nLA County Public Works Hotline: 844-347-3332  |  US Army Corps of Engineers Call Center: 213-308-8305\\n\\n\\n\\nWildfire Update – January 17, 2025\\n\\nWildfire Update – January 17, 2025\\n\\nHere are the latest updates from LA County’s Coordinated Joint Information Center as of 10:00AM on January 17, 2025.\\n\\nCasualties [...] The fires have resulted in 27 confirmed deaths, according to the LA County Medical Examiner. More updated information may be available from LASD and LAPD as search and rescue operations continue.\\n\\nEaton Fire\\n\\nPalisades Fire\\n\\nVirtual community meetings for the Eaton and Palisades fires will be held in the evenings. Please click on the following links to view the meetings:\\n\\nPhotos and Videos\\n\\nContact:\\nLos Angeles County Emergency Operations Center \\nCJIC@ceo.lacounty.gov [...] Commissioner Lara and Los Angeles DA Hochman announce rapid response effort to prevent and prosecute insurance fraud\\n\\nLA County Recovers: Public Defender\\n\\n\\n\\nLACounty.gov\\nEmergency Management\\nPublic Works\\nReady Los Angeles County\\nPublic Health\\nHealth Services\\nMental Health\\n\\nNews Releases\\nCommunity Events\\nFeatured Videos\\nEvacuation Updates\\nEmail/Text Updates\\nPhotography\\n\\nAccessibility \\nPrivacy Policy\\nDisclaimer\\nUser Rights'},\n",
       " {'url': 'https://www.epa.gov/california-wildfires',\n",
       "  'content': 'EPA and LA County Sign Lease for New Staging Area in Altadena\\n\\n\\nEPA Administrator Lee Zeldin Travels to Los Angeles, California as EPA Expedites the Largest Wildfire Cleanup Effort in Agency History\\n\\n\\nFederal, State and Local Agencies Come Together to Speed Up Wildfire Recovery with New Temporary Processing Site at Will Rogers State Beach Parking Lot\\n\\n\\nView All Recent News Releases\\nContact Us to ask a question, provide feedback, or report a problem.\\nLast updated on February 24, 2025 [...] On January 7, 2025, a series of catastrophic wildfires developed in Los Angeles County. EPA is working as part of an all-of-government response to these wildfires. We are tasked with removing hazardous materials from nearly 14,000 affected properties.'},\n",
       " {'url': 'https://abcnews.go.com/US/live-updates/california-wildfires-los-angeles-weather/?id=117613594',\n",
       "  'content': \"Firefighters work to clear a firebreak as the Palisades Fire, one of several simultaneous blazes that have ripped across Los Angeles County, burns in Mandeville Canyon, a neighborhood of Los Angeles, California, Jan. 12, 2025.\\nRingo Chiu/Reuters [...] 2:26\\nQuestions mount over response to fires and lack of water\\nAs residents return to their neighborhoods to pick up the pieces, urgent questions mount over Los Angeles County’s response to the fires and the lack of water to fight them.\\nByKevin Shalvey and David Brennan\\nLast Updated: January 13, 2025, 8:35 AM GMT [...] California fires live updates: Fires rage amid warning of 'dangerous' weather ----------------------------------------------------------------------------- * 4 minutes ago\\nABC News Network\\nAbout Nielsen Measurement\\nChildren's Online Privacy Policy\\nContact Us\\nDo Not Sell or Share My Personal Information\\nInterest-Based Ads\\nPrivacy Policy\\nTerms of Use\\nYour US State Privacy Rights\\n© 2025 ABC News\"}]"
      ]
     },
     "execution_count": 21,
     "metadata": {},
     "output_type": "execute_result"
    }
   ],
   "source": [
    "from langchain_community.tools.tavily_search import TavilySearchResults\n",
    "search = TavilySearchResults(max_results=3)\n",
    "search.invoke(\"tell me about 2025 LA wildfire updates\")"
   ]
  },
  {
   "cell_type": "code",
   "execution_count": 22,
   "metadata": {},
   "outputs": [
    {
     "name": "stdout",
     "output_type": "stream",
     "text": [
      "The End\n"
     ]
    }
   ],
   "source": [
    "print(\"The End\")"
   ]
  }
 ],
 "metadata": {
  "kernelspec": {
   "display_name": "Python 3",
   "language": "python",
   "name": "python3"
  },
  "language_info": {
   "codemirror_mode": {
    "name": "ipython",
    "version": 3
   },
   "file_extension": ".py",
   "mimetype": "text/x-python",
   "name": "python",
   "nbconvert_exporter": "python",
   "pygments_lexer": "ipython3",
   "version": "3.10.0"
  }
 },
 "nbformat": 4,
 "nbformat_minor": 2
}
