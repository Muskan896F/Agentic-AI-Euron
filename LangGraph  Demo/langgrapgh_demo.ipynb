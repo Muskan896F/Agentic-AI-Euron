{
 "cells": [
  {
   "cell_type": "code",
   "execution_count": 1,
   "metadata": {},
   "outputs": [],
   "source": [
    "import os\n",
    "from dotenv import load_dotenv, find_dotenv\n",
    "_ = load_dotenv(find_dotenv())\n",
    "openai_api_key = os.environ[\"OPENAI_API_KEY\"]\n",
    "TAVILY_API_KEY = os.environ[\"TAVILY_API_KEY\"]"
   ]
  },
  {
   "cell_type": "code",
   "execution_count": 2,
   "metadata": {},
   "outputs": [],
   "source": [
    "os.environ[\"TAVILY_API_KEY\"] = TAVILY_API_KEY"
   ]
  },
  {
   "cell_type": "code",
   "execution_count": 3,
   "metadata": {},
   "outputs": [],
   "source": [
    "from langchain_openai import ChatOpenAI\n",
    "llm = ChatOpenAI(model_name=\"gpt-3.5-turbo-0125\")"
   ]
  },
  {
   "cell_type": "code",
   "execution_count": 4,
   "metadata": {},
   "outputs": [
    {
     "data": {
      "text/plain": [
       "[{'url': 'https://recovery.lacounty.gov/2025/01/17/wildfire-update-january-17-2025/',\n",
       "  'content': 'Fire Debris Removal\\n\\nThe deadline to submit a Right of Entry or Opt-Out form for fire debris removal has been extended to April 15, 2025. Track the status of your Right of Entry form.\\n\\nLA County Public Works Hotline: 844-347-3332  |  US Army Corps of Engineers Call Center: 213-308-8305\\n\\n\\n\\nWildfire Update – January 17, 2025\\n\\nWildfire Update – January 17, 2025\\n\\nHere are the latest updates from LA County’s Coordinated Joint Information Center as of 10:00AM on January 17, 2025.\\n\\nCasualties [...] The fires have resulted in 27 confirmed deaths, according to the LA County Medical Examiner. More updated information may be available from LASD and LAPD as search and rescue operations continue.\\n\\nEaton Fire\\n\\nPalisades Fire\\n\\nVirtual community meetings for the Eaton and Palisades fires will be held in the evenings. Please click on the following links to view the meetings:\\n\\nPhotos and Videos\\n\\nContact:\\nLos Angeles County Emergency Operations Center \\nCJIC@ceo.lacounty.gov [...] Commissioner Lara and Los Angeles DA Hochman announce rapid response effort to prevent and prosecute insurance fraud\\n\\nLA County Recovers: Public Defender\\n\\n\\n\\nLACounty.gov\\nEmergency Management\\nPublic Works\\nReady Los Angeles County\\nPublic Health\\nHealth Services\\nMental Health\\n\\nNews Releases\\nCommunity Events\\nFeatured Videos\\nEvacuation Updates\\nEmail/Text Updates\\nPhotography\\n\\nAccessibility \\nPrivacy Policy\\nDisclaimer\\nUser Rights'},\n",
       " {'url': 'https://www.epa.gov/california-wildfires',\n",
       "  'content': 'EPA and LA County Sign Lease for New Staging Area in Altadena\\n\\n\\nEPA Administrator Lee Zeldin Travels to Los Angeles, California as EPA Expedites the Largest Wildfire Cleanup Effort in Agency History\\n\\n\\nFederal, State and Local Agencies Come Together to Speed Up Wildfire Recovery with New Temporary Processing Site at Will Rogers State Beach Parking Lot\\n\\n\\nView All Recent News Releases\\nContact Us to ask a question, provide feedback, or report a problem.\\nLast updated on February 24, 2025 [...] On January 7, 2025, a series of catastrophic wildfires developed in Los Angeles County. EPA is working as part of an all-of-government response to these wildfires. We are tasked with removing hazardous materials from nearly 14,000 affected properties.'},\n",
       " {'url': 'https://abcnews.go.com/US/live-updates/california-wildfires-los-angeles-weather/?id=117613594',\n",
       "  'content': \"Firefighters work to clear a firebreak as the Palisades Fire, one of several simultaneous blazes that have ripped across Los Angeles County, burns in Mandeville Canyon, a neighborhood of Los Angeles, California, Jan. 12, 2025.\\nRingo Chiu/Reuters [...] 2:26\\nQuestions mount over response to fires and lack of water\\nAs residents return to their neighborhoods to pick up the pieces, urgent questions mount over Los Angeles County’s response to the fires and the lack of water to fight them.\\nByKevin Shalvey and David Brennan\\nLast Updated: January 13, 2025, 8:35 AM GMT [...] California fires live updates: Fires rage amid warning of 'dangerous' weather ----------------------------------------------------------------------------- * 4 minutes ago\\nABC News Network\\nAbout Nielsen Measurement\\nChildren's Online Privacy Policy\\nContact Us\\nDo Not Sell or Share My Personal Information\\nInterest-Based Ads\\nPrivacy Policy\\nTerms of Use\\nYour US State Privacy Rights\\n© 2025 ABC News\"}]"
      ]
     },
     "execution_count": 4,
     "metadata": {},
     "output_type": "execute_result"
    }
   ],
   "source": [
    "from langchain_community.tools.tavily_search import TavilySearchResults\n",
    "search = TavilySearchResults(max_results=3)\n",
    "search.invoke(\"tell me about 2025 LA wildfire updates\")"
   ]
  },
  {
   "cell_type": "code",
   "execution_count": 5,
   "metadata": {},
   "outputs": [],
   "source": [
    "tools = [search]"
   ]
  },
  {
   "cell_type": "code",
   "execution_count": 6,
   "metadata": {},
   "outputs": [
    {
     "data": {
      "text/plain": [
       "[TavilySearchResults(max_results=3)]"
      ]
     },
     "execution_count": 6,
     "metadata": {},
     "output_type": "execute_result"
    }
   ],
   "source": [
    "tools"
   ]
  },
  {
   "cell_type": "code",
   "execution_count": 7,
   "metadata": {},
   "outputs": [],
   "source": [
    "from langgraph.prebuilt import create_react_agent\n",
    "\n",
    "agent_executor = create_react_agent(llm, tools)"
   ]
  },
  {
   "cell_type": "code",
   "execution_count": 8,
   "metadata": {},
   "outputs": [
    {
     "data": {
      "text/plain": [
       "{'messages': [HumanMessage(content='tell me about 2025 LA wildfire updates', id='9adfc049-6990-4ece-ac12-1b125804d6fd'),\n",
       "  AIMessage(content='', additional_kwargs={'tool_calls': [{'id': 'call_nZJKzVS9u6Ugq7K3ADcpCziq', 'function': {'arguments': '{\"query\":\"2025 LA wildfire updates\"}', 'name': 'tavily_search_results_json'}, 'type': 'function'}]}, response_metadata={'token_usage': {'completion_tokens': 23, 'prompt_tokens': 90, 'total_tokens': 113, 'completion_tokens_details': {'accepted_prediction_tokens': 0, 'audio_tokens': 0, 'reasoning_tokens': 0, 'rejected_prediction_tokens': 0}, 'prompt_tokens_details': {'audio_tokens': 0, 'cached_tokens': 0}}, 'model_name': 'gpt-3.5-turbo-0125', 'system_fingerprint': None, 'finish_reason': 'tool_calls', 'logprobs': None}, id='run-8effe4d7-13c4-4b67-b8e9-c8c2f02c484c-0', tool_calls=[{'name': 'tavily_search_results_json', 'args': {'query': '2025 LA wildfire updates'}, 'id': 'call_nZJKzVS9u6Ugq7K3ADcpCziq', 'type': 'tool_call'}], usage_metadata={'input_tokens': 90, 'output_tokens': 23, 'total_tokens': 113}),\n",
       "  ToolMessage(content='[{\"url\": \"https://en.wikipedia.org/wiki/January_2025_Southern_California_wildfires\", \"content\": \"a b Graff, Amy; Wolfe, Jonathan; Bogel-Burroughs, Nicholas; Ruberg, Sara (January 12, 2025). \\\\\"L.A. Fires Live Updates: Firefighters Rush to Contain Blazes Ahead of Stronger Winds\\\\\". The New York Times. ISSN\\xa00362-4331. Archived from the original on January 12, 2025. Retrieved January 13, 2025.\\\\n^ \\\\\"LA County Recovers\\\\\". recovery.lacounty.gov. Archived from the original on January 12, 2025. Retrieved January 13, 2025. [...] ^ Sami, Isabel. \\\\\"L.A. Mayor Karen Bass expedites wildfire rebuilding with executive order\\\\\". The Business Journals. Archived from the original on January 15, 2025. Retrieved January 15, 2025.\\\\n^ Bass, Karen (January 23, 2025). \\\\\"THURSDAY EVENING UPDATE: L.A. City Continues to Prepare Fire-Affected Areas for Potential Impacts from Rain\\\\\". mayor.lacity.gov. Archived from the original on January 25, 2025. Retrieved January 25, 2025. [...] ^ Graff, Amy; Wolfe, Jonathan; Moses, Claire; Zhuang, Yan (January 12, 2025). \\\\\"L.A. Fires Live Updates: Firefighters Make Progress as Forecasts Warn of Stronger Winds\\\\\". The New York Times. ISSN\\xa00362-4331. Retrieved January 12, 2025.\\\\n^ \\\\\"California Governor Slams Elon Musk Over Los Angeles Wildfire \\\\\"Lies\\\\\"\\\\\". NDTV. Agence France-Presse. January 14, 2025.\"}, {\"url\": \"https://recovery.lacounty.gov/2025/01/17/wildfire-update-january-17-2025/\", \"content\": \"Wildfire Update – January 17, 2025 · Structures Threatened: 14,518 · Structures Damaged: 805 · Structures Destroyed: 7,193 · Structures Threatened:\"}]', name='tavily_search_results_json', id='d3c32e0b-6c3d-4684-aa30-59642550bfeb', tool_call_id='call_nZJKzVS9u6Ugq7K3ADcpCziq'),\n",
       "  AIMessage(content='In January 2025, Southern California, including Los Angeles, experienced wildfires. Firefighters rushed to contain the blazes ahead of stronger winds. L.A. County was in the process of recovery, with efforts being made to rebuild areas affected by the wildfires. L.A. Mayor Karen Bass expedited wildfire rebuilding with an executive order to facilitate the recovery process.\\n\\nStructures were significantly impacted by the wildfires, with 14,518 structures threatened, 805 structures damaged, and 7,193 structures destroyed. The city continued to prepare fire-affected areas for potential impacts from rain to mitigate further damage.\\n\\nFor more details, you can visit the following sources:\\n1. [The New York Times - L.A. Fires Live Updates](https://en.wikipedia.org/wiki/January_2025_Southern_California_wildfires)\\n2. [L.A. County Recovery - Wildfire Update](https://recovery.lacounty.gov/2025/01/17/wildfire-update-january-17-2025/)', response_metadata={'token_usage': {'completion_tokens': 211, 'prompt_tokens': 592, 'total_tokens': 803, 'completion_tokens_details': {'accepted_prediction_tokens': 0, 'audio_tokens': 0, 'reasoning_tokens': 0, 'rejected_prediction_tokens': 0}, 'prompt_tokens_details': {'audio_tokens': 0, 'cached_tokens': 0}}, 'model_name': 'gpt-3.5-turbo-0125', 'system_fingerprint': None, 'finish_reason': 'stop', 'logprobs': None}, id='run-1a1c5f93-4817-47b8-b1f9-8c718fd30163-0', usage_metadata={'input_tokens': 592, 'output_tokens': 211, 'total_tokens': 803})]}"
      ]
     },
     "execution_count": 8,
     "metadata": {},
     "output_type": "execute_result"
    }
   ],
   "source": [
    "from langchain_core.messages import  HumanMessage\n",
    "response = agent_executor.invoke({\"messages\":[HumanMessage(content=\"tell me about 2025 LA wildfire updates\")]})\n",
    "response"
   ]
  },
  {
   "cell_type": "code",
   "execution_count": 9,
   "metadata": {},
   "outputs": [
    {
     "data": {
      "text/plain": [
       "[HumanMessage(content='tell me about 2025 LA wildfire updates', id='9adfc049-6990-4ece-ac12-1b125804d6fd'),\n",
       " AIMessage(content='', additional_kwargs={'tool_calls': [{'id': 'call_nZJKzVS9u6Ugq7K3ADcpCziq', 'function': {'arguments': '{\"query\":\"2025 LA wildfire updates\"}', 'name': 'tavily_search_results_json'}, 'type': 'function'}]}, response_metadata={'token_usage': {'completion_tokens': 23, 'prompt_tokens': 90, 'total_tokens': 113, 'completion_tokens_details': {'accepted_prediction_tokens': 0, 'audio_tokens': 0, 'reasoning_tokens': 0, 'rejected_prediction_tokens': 0}, 'prompt_tokens_details': {'audio_tokens': 0, 'cached_tokens': 0}}, 'model_name': 'gpt-3.5-turbo-0125', 'system_fingerprint': None, 'finish_reason': 'tool_calls', 'logprobs': None}, id='run-8effe4d7-13c4-4b67-b8e9-c8c2f02c484c-0', tool_calls=[{'name': 'tavily_search_results_json', 'args': {'query': '2025 LA wildfire updates'}, 'id': 'call_nZJKzVS9u6Ugq7K3ADcpCziq', 'type': 'tool_call'}], usage_metadata={'input_tokens': 90, 'output_tokens': 23, 'total_tokens': 113}),\n",
       " ToolMessage(content='[{\"url\": \"https://en.wikipedia.org/wiki/January_2025_Southern_California_wildfires\", \"content\": \"a b Graff, Amy; Wolfe, Jonathan; Bogel-Burroughs, Nicholas; Ruberg, Sara (January 12, 2025). \\\\\"L.A. Fires Live Updates: Firefighters Rush to Contain Blazes Ahead of Stronger Winds\\\\\". The New York Times. ISSN\\xa00362-4331. Archived from the original on January 12, 2025. Retrieved January 13, 2025.\\\\n^ \\\\\"LA County Recovers\\\\\". recovery.lacounty.gov. Archived from the original on January 12, 2025. Retrieved January 13, 2025. [...] ^ Sami, Isabel. \\\\\"L.A. Mayor Karen Bass expedites wildfire rebuilding with executive order\\\\\". The Business Journals. Archived from the original on January 15, 2025. Retrieved January 15, 2025.\\\\n^ Bass, Karen (January 23, 2025). \\\\\"THURSDAY EVENING UPDATE: L.A. City Continues to Prepare Fire-Affected Areas for Potential Impacts from Rain\\\\\". mayor.lacity.gov. Archived from the original on January 25, 2025. Retrieved January 25, 2025. [...] ^ Graff, Amy; Wolfe, Jonathan; Moses, Claire; Zhuang, Yan (January 12, 2025). \\\\\"L.A. Fires Live Updates: Firefighters Make Progress as Forecasts Warn of Stronger Winds\\\\\". The New York Times. ISSN\\xa00362-4331. Retrieved January 12, 2025.\\\\n^ \\\\\"California Governor Slams Elon Musk Over Los Angeles Wildfire \\\\\"Lies\\\\\"\\\\\". NDTV. Agence France-Presse. January 14, 2025.\"}, {\"url\": \"https://recovery.lacounty.gov/2025/01/17/wildfire-update-january-17-2025/\", \"content\": \"Wildfire Update – January 17, 2025 · Structures Threatened: 14,518 · Structures Damaged: 805 · Structures Destroyed: 7,193 · Structures Threatened:\"}]', name='tavily_search_results_json', id='d3c32e0b-6c3d-4684-aa30-59642550bfeb', tool_call_id='call_nZJKzVS9u6Ugq7K3ADcpCziq'),\n",
       " AIMessage(content='In January 2025, Southern California, including Los Angeles, experienced wildfires. Firefighters rushed to contain the blazes ahead of stronger winds. L.A. County was in the process of recovery, with efforts being made to rebuild areas affected by the wildfires. L.A. Mayor Karen Bass expedited wildfire rebuilding with an executive order to facilitate the recovery process.\\n\\nStructures were significantly impacted by the wildfires, with 14,518 structures threatened, 805 structures damaged, and 7,193 structures destroyed. The city continued to prepare fire-affected areas for potential impacts from rain to mitigate further damage.\\n\\nFor more details, you can visit the following sources:\\n1. [The New York Times - L.A. Fires Live Updates](https://en.wikipedia.org/wiki/January_2025_Southern_California_wildfires)\\n2. [L.A. County Recovery - Wildfire Update](https://recovery.lacounty.gov/2025/01/17/wildfire-update-january-17-2025/)', response_metadata={'token_usage': {'completion_tokens': 211, 'prompt_tokens': 592, 'total_tokens': 803, 'completion_tokens_details': {'accepted_prediction_tokens': 0, 'audio_tokens': 0, 'reasoning_tokens': 0, 'rejected_prediction_tokens': 0}, 'prompt_tokens_details': {'audio_tokens': 0, 'cached_tokens': 0}}, 'model_name': 'gpt-3.5-turbo-0125', 'system_fingerprint': None, 'finish_reason': 'stop', 'logprobs': None}, id='run-1a1c5f93-4817-47b8-b1f9-8c718fd30163-0', usage_metadata={'input_tokens': 592, 'output_tokens': 211, 'total_tokens': 803})]"
      ]
     },
     "execution_count": 9,
     "metadata": {},
     "output_type": "execute_result"
    }
   ],
   "source": [
    "response[\"messages\"]"
   ]
  },
  {
   "cell_type": "markdown",
   "metadata": {},
   "source": [
    "## **Adding Memory**"
   ]
  },
  {
   "cell_type": "code",
   "execution_count": 10,
   "metadata": {},
   "outputs": [],
   "source": [
    "from langgraph.checkpoint.memory import  MemorySaver\n",
    "memory = MemorySaver()"
   ]
  },
  {
   "cell_type": "code",
   "execution_count": 11,
   "metadata": {},
   "outputs": [],
   "source": [
    "agent_executor= create_react_agent(llm, tools, checkpointer=memory)"
   ]
  },
  {
   "cell_type": "code",
   "execution_count": 12,
   "metadata": {},
   "outputs": [],
   "source": [
    "config = {\"configurable\": {\"thread_id\": \"001\"}}"
   ]
  },
  {
   "cell_type": "code",
   "execution_count": 13,
   "metadata": {},
   "outputs": [
    {
     "name": "stdout",
     "output_type": "stream",
     "text": [
      "Help on function put in module langgraph.checkpoint.memory:\n",
      "\n",
      "put(self, config: langchain_core.runnables.config.RunnableConfig, checkpoint: langgraph.checkpoint.base.Checkpoint, metadata: langgraph.checkpoint.base.CheckpointMetadata, new_versions: dict) -> langchain_core.runnables.config.RunnableConfig\n",
      "    Save a checkpoint to the in-memory storage.\n",
      "    \n",
      "    This method saves a checkpoint to the in-memory storage. The checkpoint is associated\n",
      "    with the provided config.\n",
      "    \n",
      "    Args:\n",
      "        config (RunnableConfig): The config to associate with the checkpoint.\n",
      "        checkpoint (Checkpoint): The checkpoint to save.\n",
      "        metadata (CheckpointMetadata): Additional metadata to save with the checkpoint.\n",
      "        new_versions (dict): New versions as of this write\n",
      "    \n",
      "    Returns:\n",
      "        RunnableConfig: The updated config containing the saved checkpoint's timestamp.\n",
      "\n"
     ]
    }
   ],
   "source": [
    "import langgraph.checkpoint.memory as memory_module\n",
    "help(memory_module.MemorySaver.put)"
   ]
  },
  {
   "cell_type": "code",
   "execution_count": 14,
   "metadata": {},
   "outputs": [
    {
     "name": "stdout",
     "output_type": "stream",
     "text": [
      "{'agent': {'messages': [AIMessage(content='', additional_kwargs={'tool_calls': [{'id': 'call_ok77cHKjA6wT9b6eVHUcv72a', 'function': {'arguments': '{\"query\":\"2024 soccer Eurocup winner\"}', 'name': 'tavily_search_results_json'}, 'type': 'function'}]}, response_metadata={'token_usage': {'completion_tokens': 24, 'prompt_tokens': 91, 'total_tokens': 115, 'completion_tokens_details': {'accepted_prediction_tokens': 0, 'audio_tokens': 0, 'reasoning_tokens': 0, 'rejected_prediction_tokens': 0}, 'prompt_tokens_details': {'audio_tokens': 0, 'cached_tokens': 0}}, 'model_name': 'gpt-3.5-turbo-0125', 'system_fingerprint': None, 'finish_reason': 'tool_calls', 'logprobs': None}, id='run-50569486-9fb7-45c3-834e-6d7a1d7ca05f-0', tool_calls=[{'name': 'tavily_search_results_json', 'args': {'query': '2024 soccer Eurocup winner'}, 'id': 'call_ok77cHKjA6wT9b6eVHUcv72a', 'type': 'tool_call'}], usage_metadata={'input_tokens': 91, 'output_tokens': 24, 'total_tokens': 115})]}}\n",
      "-----\n",
      "{'tools': {'messages': [ToolMessage(content='[{\"url\": \"https://www.youtube.com/watch?v=jPG0J8PrrrQ\", \"content\": \"Euro Cup 2024 final highlights: Spain wins record 4th title with a 2-1 victory against England · Comments1.\"}, {\"url\": \"https://www.cnn.com/2024/07/14/sport/spain-england-euro-2024-final-spt-intl/index.html\", \"content\": \"Ad Feedback\\\\nSports / Football\\\\nSpain wins Euro 2024, defeating England 2-1 in a dramatic final to claim record fourth European Championship\\\\nBy Ben Morse, CNN\\\\n5 minute read\\\\nUpdated 5:44 PM EDT, Sun July 14, 2024\\\\n\\\\nLink Copied!\\\\nFollow:\\\\nUK See your latest updates [...] Alvaro Morata lifts the Henri Delaunay trophy after Spain defeats England in the Euro 2024 final.\\\\nMichael Regan/UEFA/Getty Images\\\\nCNN \\xa0—\\xa0\\\\nSpain won a record-breaking fourth European Championship, defeating England 2-1 following a drama-filled second half in the Euro 2024 final on Sunday in Berlin. [...] Spain wins Euro 2024, defeating England 2-1 in a dramatic final to claim record fourth European Championship | CNN\"}, {\"url\": \"https://www.uefa.com/euro2024/news/028f-1b4e4a9a6d42-253a2c18efdf-1000--uefa-euro-2024-meet-the-winners/\", \"content\": \"How they got there, top scorers, pedigree, key players and the coach – all you need to know about UEFA EURO 2024 winners Spain.\\\\nRoute to glory\\\\nGroup B winners\\\\n3-0 vs Croatia (Berlin, 15 June)\\\\n1-0 vs Italy (Gelsenkirchen, 20 June)\\\\n1-0 vs Albania (Düsseldorf, 24 June)\\\\nRound of 16\\\\n4-1 vs Georgia (Cologne, 30 June)\\\\nQuarter-final\\\\n2-1 aet vs Germany (Stuttgart, 5 July)\\\\nSemi-final\\\\n2-1 vs France (Munich, 9 July)\\\\nFinal\\\\n2-1 vs England (Berlin, 10 July)\\\\nSpain\\\\nPedigree [...] UEFA.com works better on other browsers\\\\nFor the best possible experience, we recommend using Chrome, Firefox or Microsoft Edge.\\\\nSkip to main content\\\\nUEFA EURO 2024\\\\nUEFA EURO 2024 - UEFA EURO 2024: Meet the winners - News \\\\nUEFA EURO 2024: Meet the winners\\\\nSunday, July 14, 2024\\\\nArticle summary\\\\nGet the full lowdown on UEFA EURO 2024 winners Spain.\\\\nArticle top media content\\\\nSpain\\'s route to EURO 2024 glory: Every goal\\\\nArticle body [...] Live 14/07/2024 Lowdown: EURO 2024 final ------------------------ Spain beat England 2-1 in the EURO 2024 final at Olympiastadion Berlin on Sunday 14 July.\\\\nUEFA EURO 2024\"}]', name='tavily_search_results_json', tool_call_id='call_ok77cHKjA6wT9b6eVHUcv72a')]}}\n",
      "-----\n",
      "{'agent': {'messages': [AIMessage(content='Spain won the 2024 soccer Eurocup by defeating England with a score of 2-1 in the final.', response_metadata={'token_usage': {'completion_tokens': 26, 'prompt_tokens': 787, 'total_tokens': 813, 'completion_tokens_details': {'accepted_prediction_tokens': 0, 'audio_tokens': 0, 'reasoning_tokens': 0, 'rejected_prediction_tokens': 0}, 'prompt_tokens_details': {'audio_tokens': 0, 'cached_tokens': 0}}, 'model_name': 'gpt-3.5-turbo-0125', 'system_fingerprint': None, 'finish_reason': 'stop', 'logprobs': None}, id='run-292bc9da-30e4-4ea3-8e2f-8b08892a3c6b-0', usage_metadata={'input_tokens': 787, 'output_tokens': 26, 'total_tokens': 813})]}}\n",
      "-----\n"
     ]
    }
   ],
   "source": [
    "for chunk in agent_executor.stream(\n",
    "    {\"messages\": [HumanMessage(content=\"Who won the 2024 soccer Eurocup?\")]}, config=config\n",
    "):\n",
    "    print(chunk)\n",
    "    print(\"-----\")\n"
   ]
  },
  {
   "cell_type": "code",
   "execution_count": 15,
   "metadata": {},
   "outputs": [
    {
     "name": "stdout",
     "output_type": "stream",
     "text": [
      "{'agent': {'messages': [AIMessage(content='The top stars of the Spain national team, who won the 2024 soccer Eurocup, included players like Alvaro Morata, who made significant contributions to their victory.', response_metadata={'token_usage': {'completion_tokens': 38, 'prompt_tokens': 829, 'total_tokens': 867, 'completion_tokens_details': {'accepted_prediction_tokens': 0, 'audio_tokens': 0, 'reasoning_tokens': 0, 'rejected_prediction_tokens': 0}, 'prompt_tokens_details': {'audio_tokens': 0, 'cached_tokens': 0}}, 'model_name': 'gpt-3.5-turbo-0125', 'system_fingerprint': None, 'finish_reason': 'stop', 'logprobs': None}, id='run-89ecf5bf-ef6d-44ec-8328-0092df825ac3-0', usage_metadata={'input_tokens': 829, 'output_tokens': 38, 'total_tokens': 867})]}}\n",
      "-----\n"
     ]
    }
   ],
   "source": [
    "for chunk in agent_executor.stream(\n",
    "    {\"messages\": [HumanMessage(content=\"Who were the top stars of that winner team?\")]}, config=config\n",
    "):\n",
    "    print(chunk)\n",
    "    print(\"-----\")\n"
   ]
  },
  {
   "cell_type": "code",
   "execution_count": 16,
   "metadata": {},
   "outputs": [
    {
     "name": "stdout",
     "output_type": "stream",
     "text": [
      "The End\n"
     ]
    }
   ],
   "source": [
    "print(\"The End\")"
   ]
  }
 ],
 "metadata": {
  "kernelspec": {
   "display_name": "Python 3",
   "language": "python",
   "name": "python3"
  },
  "language_info": {
   "codemirror_mode": {
    "name": "ipython",
    "version": 3
   },
   "file_extension": ".py",
   "mimetype": "text/x-python",
   "name": "python",
   "nbconvert_exporter": "python",
   "pygments_lexer": "ipython3",
   "version": "3.10.0"
  }
 },
 "nbformat": 4,
 "nbformat_minor": 2
}
